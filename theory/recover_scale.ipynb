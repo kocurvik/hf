{
 "cells": [
  {
   "cell_type": "code",
   "execution_count": 1,
   "id": "7fd6d61a",
   "metadata": {},
   "outputs": [],
   "source": [
    "import numpy as np\n",
    "import sympy as sp\n",
    "from IPython.display import display"
   ]
  },
  {
   "cell_type": "code",
   "execution_count": 20,
   "id": "573660c5",
   "metadata": {},
   "outputs": [
    {
     "data": {
      "text/latex": [
       "$\\displaystyle \\left[\\begin{matrix}f & 0 & 0\\\\0 & f & 0\\\\0 & 0 & 1\\end{matrix}\\right]$"
      ],
      "text/plain": [
       "Matrix([\n",
       "[f, 0, 0],\n",
       "[0, f, 0],\n",
       "[0, 0, 1]])"
      ]
     },
     "metadata": {},
     "output_type": "display_data"
    },
    {
     "data": {
      "text/latex": [
       "$\\displaystyle \\left[\\begin{matrix}f \\left(X_{0} R_{0, 0} + X_{1} R_{0, 1} + X_{2} R_{0, 2} + s t_{0}\\right)\\\\f \\left(X_{0} R_{1, 0} + X_{1} R_{1, 1} + X_{2} R_{1, 2} + s t_{1}\\right)\\\\X_{0} R_{2, 0} + X_{1} R_{2, 1} + X_{2} R_{2, 2} + s t_{2}\\end{matrix}\\right]$"
      ],
      "text/plain": [
       "Matrix([\n",
       "[f*(X_0*R[0, 0] + X_1*R[0, 1] + X_2*R[0, 2] + s*t_0)],\n",
       "[f*(X_0*R[1, 0] + X_1*R[1, 1] + X_2*R[1, 2] + s*t_1)],\n",
       "[    X_0*R[2, 0] + X_1*R[2, 1] + X_2*R[2, 2] + s*t_2]])"
      ]
     },
     "metadata": {},
     "output_type": "display_data"
    },
    {
     "data": {
      "text/latex": [
       "$\\displaystyle \\frac{f \\left(X_{0} R_{0, 0} + X_{1} R_{0, 1} + X_{2} R_{0, 2} + s t_{0}\\right)}{X_{0} R_{2, 0} + X_{1} R_{2, 1} + X_{2} R_{2, 2} + s t_{2}} - m_{0}$"
      ],
      "text/plain": [
       "f*(X_0*R[0, 0] + X_1*R[0, 1] + X_2*R[0, 2] + s*t_0)/(X_0*R[2, 0] + X_1*R[2, 1] + X_2*R[2, 2] + s*t_2) - m_0"
      ]
     },
     "metadata": {},
     "output_type": "display_data"
    },
    {
     "name": "stdout",
     "output_type": "stream",
     "text": [
      "(-X_0*f*R[0, 0] + X_0*m_0*R[2, 0] - X_1*f*R[0, 1] + X_1*m_0*R[2, 1] - X_2*f*R[0, 2] + X_2*m_0*R[2, 2])/(f*t_0 - m_0*t_2)\n"
     ]
    },
    {
     "data": {
      "text/latex": [
       "$\\displaystyle \\frac{f \\left(X_{0} R_{1, 0} + X_{1} R_{1, 1} + X_{2} R_{1, 2} + s t_{1}\\right)}{X_{0} R_{2, 0} + X_{1} R_{2, 1} + X_{2} R_{2, 2} + s t_{2}} - m_{1}$"
      ],
      "text/plain": [
       "f*(X_0*R[1, 0] + X_1*R[1, 1] + X_2*R[1, 2] + s*t_1)/(X_0*R[2, 0] + X_1*R[2, 1] + X_2*R[2, 2] + s*t_2) - m_1"
      ]
     },
     "metadata": {},
     "output_type": "display_data"
    },
    {
     "name": "stdout",
     "output_type": "stream",
     "text": [
      "(-X_0*f*R[1, 0] + X_0*m_1*R[2, 0] - X_1*f*R[1, 1] + X_1*m_1*R[2, 1] - X_2*f*R[1, 2] + X_2*m_1*R[2, 2])/(f*t_1 - m_1*t_2)\n"
     ]
    }
   ],
   "source": [
    "f = sp.symbols('f', real=True, positive=True)\n",
    "X_0, X_1, X_2 = sp.symbols('X_0, X_1, X_2', real=True)\n",
    "t_0, t_1, t_2 = sp.symbols('t_0, t_1, t_2', real=True)\n",
    "m_0, m_1 = sp.symbols('m_0, m_1', real=True)\n",
    "\n",
    "s = sp.symbols('s', real=True, positive=True)\n",
    "\n",
    "X = sp.Matrix([X_0, X_1, X_2])\n",
    "m = sp.Matrix([m_0, m_1, 1])\n",
    "t = sp.Matrix([t_0, t_1, t_2])\n",
    "\n",
    "\n",
    "R = sp.Matrix(sp.MatrixSymbol('R', 3, 3))\n",
    "\n",
    "K = sp.diag(f, f, 1)\n",
    "display(K)\n",
    "\n",
    "xp = K * (R * X + s * t)\n",
    "\n",
    "display(xp)\n",
    "\n",
    "eq = xp[0] / xp[2] - m[0]\n",
    "display(eq)\n",
    "sols = sp.solve(eq, s)\n",
    "print(sols[0])\n",
    "\n",
    "\n",
    "eq2 = xp[1] / xp[2] - m[1]\n",
    "display(eq2)\n",
    "sols2 = sp.solve(eq2, s)\n",
    "print(sols2[0])\n"
   ]
  },
  {
   "cell_type": "code",
   "execution_count": null,
   "id": "9dcd3872",
   "metadata": {},
   "outputs": [],
   "source": []
  }
 ],
 "metadata": {
  "kernelspec": {
   "display_name": "Python 3 (ipykernel)",
   "language": "python",
   "name": "python3"
  },
  "language_info": {
   "codemirror_mode": {
    "name": "ipython",
    "version": 3
   },
   "file_extension": ".py",
   "mimetype": "text/x-python",
   "name": "python",
   "nbconvert_exporter": "python",
   "pygments_lexer": "ipython3",
   "version": "3.10.10"
  }
 },
 "nbformat": 4,
 "nbformat_minor": 5
}
